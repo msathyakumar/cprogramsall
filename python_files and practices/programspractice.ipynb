{
 "cells": [
  {
   "cell_type": "code",
   "execution_count": null,
   "metadata": {},
   "outputs": [],
   "source": []
  },
  {
   "cell_type": "markdown",
   "metadata": {},
   "source": [
    "# basics programs easy"
   ]
  },
  {
   "cell_type": "code",
   "execution_count": 1,
   "metadata": {},
   "outputs": [
    {
     "name": "stdout",
     "output_type": "stream",
     "text": [
      "enter number5\n",
      "factorial of a number is %d 120\n"
     ]
    }
   ],
   "source": [
    "#factorial of a number\n",
    "def fact(num):\n",
    "    fact = 1\n",
    "    for i in range(1,num+1):\n",
    "        fact = fact*i\n",
    "    print(\"factorial of a number is %d\",fact)\n",
    "fact(int(input(\"enter number\")))"
   ]
  },
  {
   "cell_type": "code",
   "execution_count": 2,
   "metadata": {},
   "outputs": [
    {
     "name": "stdout",
     "output_type": "stream",
     "text": [
      "19\n",
      " 3\n",
      "gcd is  1\n"
     ]
    }
   ],
   "source": [
    "\n",
    "# gcd of two numbers\n",
    "a = int(input(\"\"))\n",
    "b = int(input(\" \"))\n",
    "gcd = 0\n",
    "greater = a if a>b else b\n",
    "for i in range(1,greater+1):\n",
    "    if a%i==0 and b%i==0:\n",
    "        gcd = i\n",
    "    else:\n",
    "        pass\n",
    "print(\"gcd is \",gcd)"
   ]
  },
  {
   "cell_type": "code",
   "execution_count": 3,
   "metadata": {},
   "outputs": [
    {
     "name": "stdout",
     "output_type": "stream",
     "text": [
      "29\n",
      " 34\n",
      "lcm is  986\n"
     ]
    }
   ],
   "source": [
    "#lcm of two numbers\n",
    "a = int(input(\"\"))\n",
    "b = int(input(\" \"))\n",
    "i=1\n",
    "while True:\n",
    "    if i%a==0 and i%b==0:\n",
    "        lcm = i\n",
    "        break\n",
    "    else:\n",
    "        i+=1\n",
    "print(\"lcm is \",lcm)"
   ]
  },
  {
   "cell_type": "code",
   "execution_count": 4,
   "metadata": {},
   "outputs": [
    {
     "name": "stdout",
     "output_type": "stream",
     "text": [
      "enter n:29\n",
      "0 1 1 2 3 5 8 13 21 34 55 89 144 233 377 610 987 1597 2584 4181 6765 10946 17711 28657 46368 75025 121393 196418 317811 "
     ]
    }
   ],
   "source": [
    "# fibbonacci up to n value\n",
    "a,b=0,1\n",
    "n = int(input(\"enter n:\"))\n",
    "for i in range(1,n+1):\n",
    "    print(a,end=\" \")\n",
    "    a,b=b,a+b"
   ]
  },
  {
   "cell_type": "code",
   "execution_count": 5,
   "metadata": {},
   "outputs": [
    {
     "name": "stdout",
     "output_type": "stream",
     "text": [
      "enter n:50\n",
      "0 1 1 2 3 5 8 13 21 34 "
     ]
    }
   ],
   "source": [
    "#printing fibbonacci series up to number\n",
    "a,b=0,1\n",
    "n = int(input(\"enter n:\"))\n",
    "for i in range(1,n+1):\n",
    "    if n<a:\n",
    "        break\n",
    "    print(a,end=\" \")\n",
    "    a,b=b,a+b"
   ]
  },
  {
   "cell_type": "code",
   "execution_count": 6,
   "metadata": {},
   "outputs": [
    {
     "name": "stdout",
     "output_type": "stream",
     "text": [
      "enter the value of n:17\n",
      "given number is prime\n"
     ]
    }
   ],
   "source": [
    "# check given num is prime or not\n",
    "n = int(input(\"enter the value of n:\"))\n",
    "flag=0\n",
    "for i in range(2,n):\n",
    "    if n%i==0:\n",
    "        flag = 1\n",
    "        break\n",
    "if flag==0:\n",
    "    print(\"given number is prime\")\n",
    "else:\n",
    "    print(\"given number is not prime\")"
   ]
  },
  {
   "cell_type": "code",
   "execution_count": 7,
   "metadata": {},
   "outputs": [
    {
     "name": "stdout",
     "output_type": "stream",
     "text": [
      "enter the value of n:10\n",
      "1 2 3 5 7 "
     ]
    }
   ],
   "source": [
    "# printing n prime numbers \n",
    "n = int(input(\"enter the value of n:\"))\n",
    "flag = 0\n",
    "for i in range(1,n+1):\n",
    "    flag =0\n",
    "    for j in range(2,i):\n",
    "        if i%j==0:\n",
    "            flag=1\n",
    "            break\n",
    "        else:\n",
    "            flag=0\n",
    "    if flag==0:\n",
    "        print(i,end=\" \")"
   ]
  },
  {
   "cell_type": "code",
   "execution_count": 8,
   "metadata": {},
   "outputs": [
    {
     "name": "stdout",
     "output_type": "stream",
     "text": [
      "enter the value of a:10\n",
      "enter the value of b:50\n",
      "11 13 17 19 23 29 31 37 41 43 47 "
     ]
    }
   ],
   "source": [
    "# prime upto given range\n",
    "a = int(input(\"enter the value of a:\"))\n",
    "b = int(input(\"enter the value of b:\"))\n",
    "\n",
    "flag = 0 \n",
    "for i in range(a,b+1):\n",
    "    flag =0\n",
    "    for j in range(2,i):\n",
    "        if i%j ==0:\n",
    "            flag =1 \n",
    "            break\n",
    "        else:\n",
    "            flag = 0\n",
    "    if flag ==0:\n",
    "        print(i,end = \" \")\n",
    "        "
   ]
  },
  {
   "cell_type": "code",
   "execution_count": 19,
   "metadata": {},
   "outputs": [
    {
     "name": "stdout",
     "output_type": "stream",
     "text": [
      "enter153\n",
      "153 153\n",
      "armstrong number\n"
     ]
    }
   ],
   "source": [
    "# ARMSTRONG NUMBER OR NOT\n",
    "a= int(input(\"enter\"))\n",
    "b = a\n",
    "sum =0\n",
    "while a>0:\n",
    "    rem = a%10\n",
    "    sum = sum+rem**3\n",
    "    a= a//10\n",
    "print(b,sum)\n",
    "if sum==b:\n",
    "    print(\"armstrong number\")\n",
    "else:\n",
    "    print('not armstrong number')"
   ]
  },
  {
   "cell_type": "code",
   "execution_count": 10,
   "metadata": {},
   "outputs": [
    {
     "name": "stdout",
     "output_type": "stream",
     "text": [
      "enter string12321\n",
      "palindrome\n"
     ]
    }
   ],
   "source": [
    "# palindrome or not\n",
    "st = input(\"enter string\")\n",
    "d = st[::-1]\n",
    "if st ==d:\n",
    "    print(\"palindrome\")\n",
    "else:\n",
    "    print(\"not a palindrome\")"
   ]
  },
  {
   "cell_type": "code",
   "execution_count": 11,
   "metadata": {},
   "outputs": [
    {
     "name": "stdout",
     "output_type": "stream",
     "text": [
      "enter the number:5\n",
      "given number is automorphic number\n"
     ]
    }
   ],
   "source": [
    "# automorphic number or not\n",
    "def automorphic(n):\n",
    "\n",
    "    rem = n%10\n",
    "    sq = n**2\n",
    "    rem2 = sq%10\n",
    "    if rem == rem2:\n",
    "        print(\"given number is automorphic number\")\n",
    "    else:\n",
    "        print(\"given number is not automorphic number\")\n",
    "n = int(input(\"enter the number:\"))\n",
    "automorphic(n)"
   ]
  },
  {
   "cell_type": "code",
   "execution_count": 12,
   "metadata": {},
   "outputs": [
    {
     "name": "stdout",
     "output_type": "stream",
     "text": [
      "given number is automorphic number\n"
     ]
    }
   ],
   "source": [
    "automorphic(6)"
   ]
  },
  {
   "cell_type": "code",
   "execution_count": 13,
   "metadata": {},
   "outputs": [
    {
     "name": "stdout",
     "output_type": "stream",
     "text": [
      "given number is not automorphic number\n"
     ]
    }
   ],
   "source": [
    "automorphic(7)"
   ]
  },
  {
   "cell_type": "code",
   "execution_count": null,
   "metadata": {},
   "outputs": [],
   "source": []
  },
  {
   "cell_type": "code",
   "execution_count": 16,
   "metadata": {},
   "outputs": [
    {
     "name": "stdout",
     "output_type": "stream",
     "text": [
      "enter the number145\n",
      "given number is stromg number\n"
     ]
    }
   ],
   "source": [
    "# strong number or not\n",
    "def strongornot(num):\n",
    "    oldnum =num\n",
    "    def fact(n):\n",
    "        fact = 1\n",
    "        for i in range(1,n+1):\n",
    "            fact = fact*i\n",
    "        return fact\n",
    "    newdig = 0\n",
    "    while num>0:\n",
    "        rem = num%10\n",
    "        newdig = newdig+fact(rem)rR\n",
    "        num = num//10\n",
    "    if newdig == oldnum:\n",
    "        print(\"given number is stromg number\")\n",
    "    else:\n",
    "        print(\"given number is not strong number\")\n",
    "strongornot(int(input(\"enter the number\")))"
   ]
  },
  {
   "cell_type": "code",
   "execution_count": 17,
   "metadata": {},
   "outputs": [
    {
     "name": "stdout",
     "output_type": "stream",
     "text": [
      "given number is not strong number\n"
     ]
    }
   ],
   "source": [
    "strongornot(132)"
   ]
  },
  {
   "cell_type": "code",
   "execution_count": 18,
   "metadata": {},
   "outputs": [
    {
     "name": "stdout",
     "output_type": "stream",
     "text": [
      "given number is stromg number\n"
     ]
    }
   ],
   "source": [
    "strongornot(145)"
   ]
  },
  {
   "cell_type": "code",
   "execution_count": null,
   "metadata": {},
   "outputs": [],
   "source": []
  },
  {
   "cell_type": "code",
   "execution_count": null,
   "metadata": {},
   "outputs": [],
   "source": []
  },
  {
   "cell_type": "code",
   "execution_count": 26,
   "metadata": {},
   "outputs": [
    {
     "name": "stdout",
     "output_type": "stream",
     "text": [
      "10\n",
      "0o12\n",
      "0xa\n",
      "0b1010\n"
     ]
    }
   ],
   "source": [
    "#give decimal\n",
    "a = eval(input())\n",
    "print(oct(a))\n",
    "print(hex(a))\n",
    "print(bin(a))"
   ]
  },
  {
   "cell_type": "code",
   "execution_count": 29,
   "metadata": {},
   "outputs": [
    {
     "name": "stdout",
     "output_type": "stream",
     "text": [
      "1111\n",
      "b is  15\n"
     ]
    }
   ],
   "source": [
    "# binary to decimal\n",
    "a =input()\n",
    "b ='0b'+a\n",
    "c = eval(b)\n",
    "print('b is ',c)"
   ]
  },
  {
   "cell_type": "code",
   "execution_count": 31,
   "metadata": {},
   "outputs": [
    {
     "name": "stdout",
     "output_type": "stream",
     "text": [
      "1111\n",
      "b is  0o17\n"
     ]
    }
   ],
   "source": [
    "# binary to octal conversion\n",
    "a =input()\n",
    "b ='0b'+a\n",
    "c = eval(b)\n",
    "print('b is ',oct(c))"
   ]
  },
  {
   "cell_type": "code",
   "execution_count": 33,
   "metadata": {},
   "outputs": [
    {
     "name": "stdout",
     "output_type": "stream",
     "text": [
      "10\n",
      "500\n",
      "153\n",
      "370\n",
      "371\n",
      "407\n"
     ]
    }
   ],
   "source": [
    "# armstrong numbers between the given intervals\n",
    "a = int(input())\n",
    "b = int(input())\n",
    "for i in range(a,b+1):\n",
    "    num = i\n",
    "    sum1 = 0\n",
    "    while num>0:\n",
    "        rem = num%10\n",
    "        sum1 = sum1+rem**3\n",
    "        num = num//10\n",
    "    if i == sum1:\n",
    "        print(i)\n",
    "    "
   ]
  },
  {
   "cell_type": "code",
   "execution_count": null,
   "metadata": {},
   "outputs": [],
   "source": []
  }
 ],
 "metadata": {
  "kernelspec": {
   "display_name": "Python 3",
   "language": "python",
   "name": "python3"
  },
  "language_info": {
   "codemirror_mode": {
    "name": "ipython",
    "version": 3
   },
   "file_extension": ".py",
   "mimetype": "text/x-python",
   "name": "python",
   "nbconvert_exporter": "python",
   "pygments_lexer": "ipython3",
   "version": "3.7.4"
  }
 },
 "nbformat": 4,
 "nbformat_minor": 2
}
